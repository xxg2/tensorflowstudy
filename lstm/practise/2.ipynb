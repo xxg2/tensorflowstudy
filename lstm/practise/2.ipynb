{
 "cells": [
  {
   "cell_type": "code",
   "execution_count": 3,
   "metadata": {},
   "outputs": [],
   "source": [
    "from __future__ import print_function\n",
    "import collections\n",
    "import math\n",
    "import numpy as np\n",
    "import os\n",
    "import random\n",
    "import tensorflow as tf\n",
    "import nltk\n",
    "import zipfile\n",
    "from matplotlib import pylab\n",
    "from six.moves import range\n",
    "from six.moves.urllib.request import urlretrieve\n",
    "import tensorflow as tf\n",
    "# from tensorflow.compat.v1.contrib import rnn\n",
    "import csv\n",
    "import reader"
   ]
  },
  {
   "cell_type": "code",
   "execution_count": 4,
   "metadata": {},
   "outputs": [
    {
     "name": "stdout",
     "output_type": "stream",
     "text": [
      "文件  select_description_from_sys_district.csv 存在。盛宴大幕拉开了。\n"
     ]
    }
   ],
   "source": [
    "file_name = 'select_description_from_sys_district.csv'\n",
    "if reader.check_file(file_name, url=''):\n",
    "    hotelDescs = reader.read_data_as_text(file_name)\n",
    "else:\n",
    "    quit()"
   ]
  },
  {
   "cell_type": "code",
   "execution_count": 7,
   "metadata": {},
   "outputs": [
    {
     "name": "stdout",
     "output_type": "stream",
     "text": [
      "找到 894831 个单词.\n",
      "常用的词 (+UNK) [('，', 33827), ('、', 22474), ('。', 17855), ('的', 16469), ('店', 14173)]\n",
      "不常用的词 (+UNK) [('棒', 1), ('瓢', 1), ('俚', 1), ('狼', 1), ('猬', 1), ('涨', 1), ('℃', 1), ('催', 1), ('厘', 1), ('逢', 1), ('庠', 1), ('剥', 1), ('｡', 1), ('辨', 1), ('蔼', 1)]\n",
      "样本数据 [11]\n",
      "样本数据 [6]\n",
      "词汇量:  1764\n"
     ]
    }
   ],
   "source": [
    "def build_dataset(documents):\n",
    "    chars = []\n",
    "    # 这是一些列表．外部列表表示每个文档,内部列表表示给定文档中的单词     \n",
    "    data_list = []\n",
    "  \n",
    "    for d in documents:\n",
    "        chars.extend(d)\n",
    "    print('找到 %d 个单词.'%len(chars))\n",
    "    count = []\n",
    "    # 根据频率对bigram进行排序（最高的排在第一位）\n",
    "    count.extend(collections.Counter(chars).most_common())\n",
    "    \n",
    "    # 通过给出字典的当前长度为每个bigram创建一个ID\n",
    "    # 并将该元素添加到字典中\n",
    "    # 从分配给文本中稀有单词的“UNK”开始    \n",
    "    dictionary = dict({'UNK':0})\n",
    "    for char, c in count:\n",
    "        # 如果统计的频率超过10，则仅增加一个bigram到字典中\n",
    "        if c > 10:\n",
    "            dictionary[char] = len(dictionary)    \n",
    "    \n",
    "    unk_count = 0\n",
    "    # 遍历所有文本,我们将每个字符串形式的单词替换为单词的ID     \n",
    "    for d in documents:\n",
    "        data = list()\n",
    "        for char in d:\n",
    "            # 如果一个单词存在于词典中,则使用该单词ID,否则使用特殊标记“UNK”的ID            \n",
    "            if char in dictionary:\n",
    "                index = dictionary[char]        \n",
    "            else:\n",
    "                index = dictionary['UNK']\n",
    "                unk_count += 1\n",
    "            data.append(index)\n",
    "            \n",
    "        data_list.append(data)\n",
    "        \n",
    "    reverse_dictionary = dict(zip(dictionary.values(), dictionary.keys())) \n",
    "    return data_list, count, dictionary, reverse_dictionary\n",
    "\n",
    "global data_list, count, dictionary, reverse_dictionary,vocabulary_size\n",
    "\n",
    "# 打印数据一些的统计信息\n",
    "data_list, count, dictionary, reverse_dictionary = build_dataset(hotelDescs)\n",
    "print('常用的词 (+UNK)', count[:5])\n",
    "print('不常用的词 (+UNK)', count[-15:])\n",
    "print('样本数据', data_list[0][:10])\n",
    "print('样本数据', data_list[1][:10])\n",
    "print('词汇量: ',len(dictionary))\n",
    "vocabulary_size = len(dictionary)\n",
    "#del hotelDescs  # 减少内存"
   ]
  },
  {
   "cell_type": "code",
   "execution_count": null,
   "metadata": {},
   "outputs": [],
   "source": []
  }
 ],
 "metadata": {
  "kernelspec": {
   "display_name": "Python 3",
   "language": "python",
   "name": "python3"
  },
  "language_info": {
   "codemirror_mode": {
    "name": "ipython",
    "version": 3
   },
   "file_extension": ".py",
   "mimetype": "text/x-python",
   "name": "python",
   "nbconvert_exporter": "python",
   "pygments_lexer": "ipython3",
   "version": "3.6.9"
  }
 },
 "nbformat": 4,
 "nbformat_minor": 2
}
