{
 "cells": [
  {
   "cell_type": "code",
   "execution_count": 1,
   "metadata": {},
   "outputs": [],
   "source": [
    "import reader\n",
    "import os"
   ]
  },
  {
   "cell_type": "code",
   "execution_count": 3,
   "metadata": {},
   "outputs": [
    {
     "name": "stdout",
     "output_type": "stream",
     "text": [
      "文件  select_description_from_sys_district.csv 已经存在.\n",
      "+++\n"
     ]
    }
   ],
   "source": [
    "file_name = 'select_description_from_sys_district.csv'\n",
    "if reader.check_file(file_name, url=''):\n",
    "    chars = reader.read_data(os.path.join(dir_name,filenames[i]))\n",
    "else:\n",
    "    print(\"查无此文件呀\")\n",
    "    \n",
    "\n",
    "    \n",
    "    # 将文本分解成bigram形式\n",
    "    two_grams = [''.join(chars[ch_i:ch_i+2]) for ch_i in range(0,len(chars)-2,2)]\n",
    "    # 创建一个带有bigram形式的列表\n",
    "    documents.append(two_grams)\n",
    "    print('数据大小 (字符) (文档 %d) %d' %(i,len(two_grams)))\n",
    "    print('样本字符串 (文档 %d) %s'%(i,two_grams[:50]))"
   ]
  },
  {
   "cell_type": "code",
   "execution_count": null,
   "metadata": {},
   "outputs": [],
   "source": [
    "# 隐藏状态变量中的神经元数量\n",
    "num_nodes = 128\n",
    "\n",
    "# 一个batch中要处理的数据点数量\n",
    "batch_size = 64\n",
    "\n",
    "# 在优化期间展开的时间步数\n",
    "num_unrollings = 50\n",
    "\n",
    "#使用dropout\n",
    "dropout = 0.2 \n",
    "# 使用dropout保存时在csv文件名中使用\n",
    "filename_extension = ''\n",
    "if dropout>0.0:\n",
    "    filename_extension = '_dropout'\n",
    "    \n",
    "filename_to_save = 'lstm'+filename_extension+'.csv' # 用来保存困惑度的值"
   ]
  }
 ],
 "metadata": {
  "kernelspec": {
   "display_name": "Python 3",
   "language": "python",
   "name": "python3"
  },
  "language_info": {
   "codemirror_mode": {
    "name": "ipython",
    "version": 3
   },
   "file_extension": ".py",
   "mimetype": "text/x-python",
   "name": "python",
   "nbconvert_exporter": "python",
   "pygments_lexer": "ipython3",
   "version": "3.6.9"
  }
 },
 "nbformat": 4,
 "nbformat_minor": 2
}
